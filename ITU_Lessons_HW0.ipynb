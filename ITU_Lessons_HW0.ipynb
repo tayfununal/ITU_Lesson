{
  "nbformat": 4,
  "nbformat_minor": 0,
  "metadata": {
    "colab": {
      "name": "ITU_Lessons_HW0.ipynb",
      "private_outputs": true,
      "provenance": [],
      "mount_file_id": "https://github.com/tayfununal/nku_lesson/blob/main/ITU_Lessons_HW0.ipynb",
      "authorship_tag": "ABX9TyPo3nOwjavBErbyJubNsuoS",
      "include_colab_link": true
    },
    "kernelspec": {
      "name": "python3",
      "display_name": "Python 3"
    },
    "accelerator": "GPU"
  },
  "cells": [
    {
      "cell_type": "markdown",
      "metadata": {
        "id": "view-in-github",
        "colab_type": "text"
      },
      "source": [
        "<a href=\"https://colab.research.google.com/github/tayfununal/ITU_Lesson/blob/main/ITU_Lessons_HW0.ipynb\" target=\"_parent\"><img src=\"https://colab.research.google.com/assets/colab-badge.svg\" alt=\"Open In Colab\"/></a>"
      ]
    },
    {
      "cell_type": "markdown",
      "metadata": {
        "id": "cntsyvVcdWRt"
      },
      "source": [
        "#**HOMEWORK 0**"
      ]
    },
    {
      "cell_type": "markdown",
      "metadata": {
        "id": "UZTmISIme3NF"
      },
      "source": [
        "##**Question 1 - Part 1 : Numpy**"
      ]
    },
    {
      "cell_type": "code",
      "metadata": {
        "id": "Oc0eBfi7dVhJ"
      },
      "source": [
        "import numpy as np"
      ],
      "execution_count": null,
      "outputs": []
    },
    {
      "cell_type": "code",
      "metadata": {
        "id": "vh9diaZIdPNk"
      },
      "source": [
        "A = np.array([[-1, 1, -3],[2, -2, 2],[0, 3, -3]])\r\n",
        "B = np.array([[0, 0, 0],[1, 0, 0],[0, 0, 0]])\r\n",
        "C = np.array([[3, 1],[4, 1],[5, 1]])\r\n",
        "D = np.array([[5],[4],[3]])"
      ],
      "execution_count": null,
      "outputs": []
    },
    {
      "cell_type": "code",
      "metadata": {
        "id": "_1vWJYyBd2PT"
      },
      "source": [
        "print('A =',A)\r\n",
        "print('B =',B)\r\n",
        "print('C =',C)\r\n",
        "print('D =',D)"
      ],
      "execution_count": null,
      "outputs": []
    },
    {
      "cell_type": "code",
      "metadata": {
        "id": "fZ5_RvuJd5bp"
      },
      "source": [
        "# A x B\r\n",
        "result_AxB = np.dot(A,B)\r\n",
        "result_AxB"
      ],
      "execution_count": null,
      "outputs": []
    },
    {
      "cell_type": "code",
      "metadata": {
        "id": "SAdwYa_sflc2"
      },
      "source": [
        "# A x (A^T)\r\n",
        "\r\n",
        "result_AxAT = np.dot(A,A.T)\r\n",
        "result_AxAT"
      ],
      "execution_count": null,
      "outputs": []
    },
    {
      "cell_type": "code",
      "metadata": {
        "id": "379HjaXGf7W8"
      },
      "source": [
        "# A * B\r\n",
        "result_AB = A*B\r\n",
        "result_AB"
      ],
      "execution_count": null,
      "outputs": []
    },
    {
      "cell_type": "code",
      "metadata": {
        "id": "6fIbFc2fgVjl"
      },
      "source": [
        "# A * AT\r\n",
        "\r\n",
        "result_AAT = A * A.T\r\n",
        "result_AAT"
      ],
      "execution_count": null,
      "outputs": []
    },
    {
      "cell_type": "code",
      "metadata": {
        "id": "QXoLF9o7gdaT"
      },
      "source": [
        "# C * D\r\n",
        "\r\n",
        "result_CD = C * D\r\n",
        "result_CD"
      ],
      "execution_count": null,
      "outputs": []
    },
    {
      "cell_type": "code",
      "metadata": {
        "id": "0C-98G1kg7If"
      },
      "source": [
        "# solve [A|D]\r\n",
        "np.linalg.solve(A,D)"
      ],
      "execution_count": null,
      "outputs": []
    },
    {
      "cell_type": "code",
      "metadata": {
        "id": "TG4YG0NFhOUx"
      },
      "source": [
        "# Solve [B|D] ------>>>>> Singular Matrix\r\n",
        "np.linalg.solve(B,D)"
      ],
      "execution_count": null,
      "outputs": []
    },
    {
      "cell_type": "code",
      "metadata": {
        "id": "13x1xt4vhY_R"
      },
      "source": [
        "# Solve [C|D] ---->>>>>>>< There is no solution.\r\n",
        "np.linalg.solve(C,D)"
      ],
      "execution_count": null,
      "outputs": []
    },
    {
      "cell_type": "markdown",
      "metadata": {
        "id": "A-4qEYGXifoq"
      },
      "source": [
        "##**Question 2 - Part 2 : Image Manipulation - I**"
      ]
    },
    {
      "cell_type": "code",
      "metadata": {
        "id": "5TCJMvaTip-f"
      },
      "source": [
        "import cv2\r\n",
        "from google.colab.patches import cv2_imshow\r\n",
        "import moviepy.editor"
      ],
      "execution_count": null,
      "outputs": []
    },
    {
      "cell_type": "code",
      "metadata": {
        "id": "Tizuoj5wsDvm"
      },
      "source": [
        "images = []\r\n",
        "for i in range(0,180):\r\n",
        "  images.append(cv2.imread(f'/content/drive/MyDrive/İTÜ Lesson/HW0/İTÜ HW0/cat/cat_{i}.png'))\r\n",
        "\r\n",
        "images_list = []\r\n",
        "for im in images:\r\n",
        "  im_r = im[:,:,2]\r\n",
        "  im_g = im[:,:,1]\r\n",
        "  im_b = im[:,:,0]\r\n",
        "\r\n",
        "  background = cv2.imread('/content/drive/MyDrive/İTÜ Lesson/HW0/İTÜ HW0/Malibu.jpg')\r\n",
        "  background_height = background.shape[0]\r\n",
        "  background_width = background.shape[1]\r\n",
        "  ratio = 360 / background_height\r\n",
        "\r\n",
        "  background = cv2.resize(background, (int(background_width * ratio), 360))\r\n",
        "\r\n",
        "  background_1 = background\r\n",
        "  malibu_r = background_1[:,:,2]\r\n",
        "  malibu_g = background_1[:,:,1]\r\n",
        "  malibu_b = background_1[:,:,0]\r\n",
        "\r\n",
        "  for j in range(0,360):\r\n",
        "    for i in range(0,640):\r\n",
        "      if (im_g[j,i]<180)or(im_b[j,i]>150):\r\n",
        "        malibu_r[j,i] = im_r[j,i]\r\n",
        "        malibu_g[j,i] = im_g[j,i]\r\n",
        "        malibu_b[j,i] = im_b[j,i]\r\n",
        "\r\n",
        "  background_1[:,:,2] = malibu_r.reshape(360,926)\r\n",
        "  background_1[:,:,1] = malibu_g.reshape(360,926)\r\n",
        "  background_1[:,:,0] = malibu_b.reshape(360,926)\r\n",
        "  \r\n",
        "  images_list.append(background_1)"
      ],
      "execution_count": null,
      "outputs": []
    },
    {
      "cell_type": "code",
      "metadata": {
        "id": "R09jqn0zsHGr"
      },
      "source": [
        "iter = 1\r\n",
        "for i in images_list:\r\n",
        "  cv2.imwrite(f'/content/ty/{iter}.png',i)\r\n",
        "  iter +=1"
      ],
      "execution_count": null,
      "outputs": []
    },
    {
      "cell_type": "code",
      "metadata": {
        "id": "rj_2JFErsL0o"
      },
      "source": [
        "images_list1 = []\r\n",
        "for i in range(1,181):\r\n",
        "  images_list1.append(f'/content/ty/{i}.png')\r\n",
        "\r\n",
        "\r\n",
        "clip = moviepy.editor.ImageSequenceClip(images_list1, fps=25)\r\n",
        "audio = moviepy.editor.AudioFileClip('/content/drive/MyDrive/İTÜ Lesson/HW0/İTÜ HW0/selfcontrol_part.wav').set_duration(clip.duration)\r\n",
        "\r\n",
        "clip = clip.set_audio(audioclip=audio)\r\n",
        "clip.write_videofile('part1_video.mp4', codec='libx264')"
      ],
      "execution_count": null,
      "outputs": []
    }
  ]
}