{
  "nbformat": 4,
  "nbformat_minor": 0,
  "metadata": {
    "colab": {
      "name": "ITU_Lessons_HW0.ipynb",
      "private_outputs": true,
      "provenance": [],
      "toc_visible": true,
      "mount_file_id": "https://github.com/tayfununal/ITU_Lesson/blob/main/ITU_Lessons_HW0.ipynb",
      "authorship_tag": "ABX9TyMd15xJ9v0UZnsUX1Oib+cr",
      "include_colab_link": true
    },
    "kernelspec": {
      "name": "python3",
      "display_name": "Python 3"
    },
    "accelerator": "GPU"
  },
  "cells": [
    {
      "cell_type": "markdown",
      "metadata": {
        "id": "view-in-github",
        "colab_type": "text"
      },
      "source": [
        "<a href=\"https://colab.research.google.com/github/tayfununal/ITU_Lesson/blob/main/ITU_Lessons_HW0.ipynb\" target=\"_parent\"><img src=\"https://colab.research.google.com/assets/colab-badge.svg\" alt=\"Open In Colab\"/></a>"
      ]
    },
    {
      "cell_type": "markdown",
      "metadata": {
        "id": "cntsyvVcdWRt"
      },
      "source": [
        "#**HOMEWORK 0**"
      ]
    },
    {
      "cell_type": "markdown",
      "metadata": {
        "id": "UZTmISIme3NF"
      },
      "source": [
        "##**Question 1 - Part 1 : Numpy**"
      ]
    },
    {
      "cell_type": "code",
      "metadata": {
        "id": "Oc0eBfi7dVhJ"
      },
      "source": [
        "import numpy as np"
      ],
      "execution_count": null,
      "outputs": []
    },
    {
      "cell_type": "code",
      "metadata": {
        "id": "vh9diaZIdPNk"
      },
      "source": [
        "A = np.array([[-1, 1, -3],[2, -2, 2],[0, 3, -3]])\n",
        "B = np.array([[0, 0, 0],[1, 0, 0],[0, 0, 0]])\n",
        "C = np.array([[3, 1],[4, 1],[5, 1]])\n",
        "D = np.array([[5],[4],[3]])"
      ],
      "execution_count": null,
      "outputs": []
    },
    {
      "cell_type": "code",
      "metadata": {
        "id": "_1vWJYyBd2PT"
      },
      "source": [
        "print('A =',A)\n",
        "print('B =',B)\n",
        "print('C =',C)\n",
        "print('D =',D)"
      ],
      "execution_count": null,
      "outputs": []
    },
    {
      "cell_type": "code",
      "metadata": {
        "id": "fZ5_RvuJd5bp"
      },
      "source": [
        "# A x B\n",
        "result_AxB = np.dot(A,B)\n",
        "result_AxB"
      ],
      "execution_count": null,
      "outputs": []
    },
    {
      "cell_type": "code",
      "metadata": {
        "id": "SAdwYa_sflc2"
      },
      "source": [
        "# A x (A^T)\n",
        "\n",
        "result_AxAT = np.dot(A,A.T)\n",
        "result_AxAT"
      ],
      "execution_count": null,
      "outputs": []
    },
    {
      "cell_type": "code",
      "metadata": {
        "id": "379HjaXGf7W8"
      },
      "source": [
        "# A * B\n",
        "result_AB = A*B\n",
        "result_AB"
      ],
      "execution_count": null,
      "outputs": []
    },
    {
      "cell_type": "code",
      "metadata": {
        "id": "6fIbFc2fgVjl"
      },
      "source": [
        "# A * AT\n",
        "\n",
        "result_AAT = A * A.T\n",
        "result_AAT"
      ],
      "execution_count": null,
      "outputs": []
    },
    {
      "cell_type": "code",
      "metadata": {
        "id": "QXoLF9o7gdaT"
      },
      "source": [
        "# C * D\n",
        "\n",
        "result_CD = C * D\n",
        "result_CD"
      ],
      "execution_count": null,
      "outputs": []
    },
    {
      "cell_type": "code",
      "metadata": {
        "id": "0C-98G1kg7If"
      },
      "source": [
        "# solve [A|D]\n",
        "np.linalg.solve(A,D)"
      ],
      "execution_count": null,
      "outputs": []
    },
    {
      "cell_type": "code",
      "metadata": {
        "id": "TG4YG0NFhOUx"
      },
      "source": [
        "# Solve [B|D] ------>>>>> Singular Matrix\n",
        "np.linalg.solve(B,D)"
      ],
      "execution_count": null,
      "outputs": []
    },
    {
      "cell_type": "code",
      "metadata": {
        "id": "13x1xt4vhY_R"
      },
      "source": [
        "# Solve [C|D] ---->>>>>>>< There is no solution.\n",
        "np.linalg.solve(C,D)"
      ],
      "execution_count": null,
      "outputs": []
    },
    {
      "cell_type": "markdown",
      "metadata": {
        "id": "A-4qEYGXifoq"
      },
      "source": [
        "##**Question 2 - Part 2 : Image Manipulation - I**"
      ]
    },
    {
      "cell_type": "code",
      "metadata": {
        "id": "5TCJMvaTip-f"
      },
      "source": [
        "import cv2\n",
        "from google.colab.patches import cv2_imshow\n",
        "import moviepy.editor"
      ],
      "execution_count": null,
      "outputs": []
    },
    {
      "cell_type": "code",
      "metadata": {
        "id": "Tizuoj5wsDvm"
      },
      "source": [
        "images = []\n",
        "for i in range(0,180):\n",
        "  images.append(cv2.imread(f'/content/drive/MyDrive/İTÜ Lesson/HW0/İTÜ HW0/cat/cat_{i}.png'))\n",
        "\n",
        "images_list = []\n",
        "for im in images:\n",
        "  im_r = im[:,:,2]\n",
        "  im_g = im[:,:,1]\n",
        "  im_b = im[:,:,0]\n",
        "\n",
        "  background = cv2.imread('/content/drive/MyDrive/İTÜ Lesson/HW0/İTÜ HW0/Malibu.jpg')\n",
        "  background_height = background.shape[0]\n",
        "  background_width = background.shape[1]\n",
        "  ratio = 360 / background_height\n",
        "\n",
        "  background = cv2.resize(background, (int(background_width * ratio), 360))\n",
        "\n",
        "  background_1 = background\n",
        "  malibu_r = background_1[:,:,2]\n",
        "  malibu_g = background_1[:,:,1]\n",
        "  malibu_b = background_1[:,:,0]\n",
        "\n",
        "  for j in range(0,360):\n",
        "    for i in range(0,640):\n",
        "      if (im_g[j,i]<180)or(im_b[j,i]>150):\n",
        "        malibu_r[j,i] = im_r[j,i]\n",
        "        malibu_g[j,i] = im_g[j,i]\n",
        "        malibu_b[j,i] = im_b[j,i]\n",
        "\n",
        "  background_1[:,:,2] = malibu_r.reshape(360,926)\n",
        "  background_1[:,:,1] = malibu_g.reshape(360,926)\n",
        "  background_1[:,:,0] = malibu_b.reshape(360,926)\n",
        "  \n",
        "  images_list.append(background_1)"
      ],
      "execution_count": null,
      "outputs": []
    },
    {
      "cell_type": "code",
      "metadata": {
        "id": "R09jqn0zsHGr"
      },
      "source": [
        "iter = 1\n",
        "for i in images_list:\n",
        "  cv2.imwrite(f'/content/ty/{iter}.png',i)\n",
        "  iter +=1"
      ],
      "execution_count": null,
      "outputs": []
    },
    {
      "cell_type": "code",
      "metadata": {
        "id": "rj_2JFErsL0o"
      },
      "source": [
        "images_list1 = []\n",
        "for i in range(1,181):\n",
        "  images_list1.append(f'/content/ty/{i}.png')\n",
        "\n",
        "\n",
        "clip = moviepy.editor.ImageSequenceClip(images_list1, fps=25)\n",
        "audio = moviepy.editor.AudioFileClip('/content/drive/MyDrive/İTÜ Lesson/HW0/İTÜ HW0/selfcontrol_part.wav').set_duration(clip.duration)\n",
        "\n",
        "clip = clip.set_audio(audioclip=audio)\n",
        "clip.write_videofile('part1_video.mp4', codec='libx264')"
      ],
      "execution_count": null,
      "outputs": []
    },
    {
      "cell_type": "markdown",
      "metadata": {
        "id": "Ev0Wgvado-Z5"
      },
      "source": [
        "##**Question 3 - Part 3 : Image Manipulation - II**"
      ]
    },
    {
      "cell_type": "code",
      "metadata": {
        "id": "mW8isyLuo-C2"
      },
      "source": [
        "import cv2\n",
        "from google.colab.patches import cv2_imshow\n",
        "import moviepy.editor"
      ],
      "execution_count": null,
      "outputs": []
    },
    {
      "cell_type": "code",
      "metadata": {
        "id": "CRt2WbO7pctk"
      },
      "source": [
        "images = []\n",
        "for i in range(0,180):\n",
        "  images.append(cv2.imread(f'/content/drive/MyDrive/İTÜ Lesson/HW0/İTÜ HW0/cat/cat_{i}.png'))\n",
        "\n",
        "images_list = []\n",
        "for im in images:\n",
        "\n",
        "  background = cv2.imread('/content/drive/MyDrive/İTÜ Lesson/HW0/İTÜ HW0/Malibu.jpg')\n",
        "  background_height = background.shape[0]\n",
        "  background_width = background.shape[1]\n",
        "  ratio = 360 / background_height\n",
        "\n",
        "  background = cv2.resize(background, (int(background_width * ratio), 360))\n",
        "  \n",
        "  flip_images = cv2.flip(im, 1)\n",
        "\n",
        "  background_1 = background\n",
        "  malibu_r = background_1[:,:,2]\n",
        "  malibu_g = background_1[:,:,1]\n",
        "  malibu_b = background_1[:,:,0]\n",
        "\n",
        "  im_r = im[:,:,2]\n",
        "  im_g = im[:,:,1]\n",
        "  im_b = im[:,:,0]\n",
        "  \n",
        "  flip_im_r = flip_images[:,:,2]\n",
        "  flip_im_g = flip_images[:,:,1]\n",
        "  flip_im_b = flip_images[:,:,0]\n",
        "\n",
        "  for j in range(0,360):\n",
        "    for i in range(0,640):\n",
        "      if (im_g[j,i]<180)or(im_b[j,i]>150):\n",
        "        malibu_r[j,i] = im_r[j,i]\n",
        "        malibu_g[j,i] = im_g[j,i]\n",
        "        malibu_b[j,i] = im_b[j,i]\n",
        "\n",
        "  for j in range(0,360):\n",
        "    for i in range(0,640):\n",
        "      if (flip_im_g[j,i]<180)or(flip_im_b[j,i]>150):\n",
        "        malibu_r[j,i+286] = flip_im_r[j,i]\n",
        "        malibu_g[j,i+286] = flip_im_g[j,i]\n",
        "        malibu_b[j,i+286] = flip_im_b[j,i]\n",
        "\n",
        "  background_1[:,:,2] = malibu_r.reshape(360,926)\n",
        "  background_1[:,:,1] = malibu_g.reshape(360,926)\n",
        "  background_1[:,:,0] = malibu_b.reshape(360,926)\n",
        "  \n",
        "  images_list.append(background_1)"
      ],
      "execution_count": null,
      "outputs": []
    },
    {
      "cell_type": "code",
      "metadata": {
        "id": "mRIFzxaZzwHe"
      },
      "source": [
        "iter = 1\n",
        "for i in images_list:\n",
        "  cv2.imwrite(f'/content/ty/{iter}.png',i)\n",
        "  iter +=1"
      ],
      "execution_count": null,
      "outputs": []
    },
    {
      "cell_type": "code",
      "metadata": {
        "id": "dPCkK7GHzzaE"
      },
      "source": [
        "images_list1 = []\n",
        "for i in range(1,181):\n",
        "  images_list1.append(f'/content/ty/{i}.png')\n",
        "\n",
        "\n",
        "clip = moviepy.editor.ImageSequenceClip(images_list1, fps=25)\n",
        "audio = moviepy.editor.AudioFileClip('/content/drive/MyDrive/İTÜ Lesson/HW0/İTÜ HW0/selfcontrol_part.wav').set_duration(clip.duration)\n",
        "\n",
        "clip = clip.set_audio(audioclip=audio)\n",
        "clip.write_videofile('part1_video.mp4', codec='libx264')"
      ],
      "execution_count": null,
      "outputs": []
    },
    {
      "cell_type": "markdown",
      "metadata": {
        "id": "V6CxtaB31G77"
      },
      "source": [
        "##**Question 4 - Part 4 : Edge and Shape Detection**"
      ]
    },
    {
      "cell_type": "code",
      "metadata": {
        "id": "ktq7Jt231nk7"
      },
      "source": [
        "dice = []\n",
        "for i in range(1,5):\n",
        "  dice.append(cv2.imread(f'/content/drive/MyDrive/İTÜ Lesson/HW0/İTÜ HW0/dice/dc_{i}.png'))\n"
      ],
      "execution_count": null,
      "outputs": []
    },
    {
      "cell_type": "code",
      "metadata": {
        "id": "saBsPVi51816"
      },
      "source": [
        "dice[0].shape"
      ],
      "execution_count": null,
      "outputs": []
    },
    {
      "cell_type": "code",
      "metadata": {
        "id": "qLf424ec2Ecn"
      },
      "source": [
        "edge = cv2.Canny(dice[0],331,357)\n",
        "cv2_imshow(edge)"
      ],
      "execution_count": null,
      "outputs": []
    },
    {
      "cell_type": "code",
      "metadata": {
        "id": "Yhl8vv4c3BCG"
      },
      "source": [
        "gray = cv2.cvtColor(dice[0], cv2.COLOR_BGR2GRAY) \n",
        "circles = cv2.HoughCircles(gray, cv2.HOUGH_GRADIENT, 1, 100, param1 = 100, param2 = 30, minRadius = 1, maxRadius = 0)\n",
        "\n",
        "for i in circles[0,:]:\n",
        "    # draw the outer circle\n",
        "    cv2.circle(dice[1],(i[0],i[1]),i[2],(0,255,0),2)\n",
        "    # draw the center of the circle\n",
        "    cv2.circle(dice[1],(i[0],i[1]),2,(0,0,255),3)\n",
        "cv2_imshow(dice[1])"
      ],
      "execution_count": null,
      "outputs": []
    },
    {
      "cell_type": "code",
      "metadata": {
        "id": "puuiLMqn3oEa"
      },
      "source": [
        "d"
      ],
      "execution_count": null,
      "outputs": []
    },
    {
      "cell_type": "code",
      "metadata": {
        "id": "lpJxI-B4-kDe"
      },
      "source": [
        ""
      ],
      "execution_count": null,
      "outputs": []
    }
  ]
}