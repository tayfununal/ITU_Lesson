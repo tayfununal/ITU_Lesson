{
  "nbformat": 4,
  "nbformat_minor": 0,
  "metadata": {
    "colab": {
      "name": "ITU_Lessons_HW1",
      "private_outputs": true,
      "provenance": [],
      "authorship_tag": "ABX9TyOSt/5+4ko01BciOgjkeOy/",
      "include_colab_link": true
    },
    "kernelspec": {
      "name": "python3",
      "display_name": "Python 3"
    },
    "language_info": {
      "name": "python"
    }
  },
  "cells": [
    {
      "cell_type": "markdown",
      "metadata": {
        "id": "view-in-github",
        "colab_type": "text"
      },
      "source": [
        "<a href=\"https://colab.research.google.com/github/tayfununal/ITU_Lesson/blob/main/ITU_Lessons_HW1.ipynb\" target=\"_parent\"><img src=\"https://colab.research.google.com/assets/colab-badge.svg\" alt=\"Open In Colab\"/></a>"
      ]
    },
    {
      "cell_type": "code",
      "metadata": {
        "id": "oQv3XAP64921"
      },
      "source": [
        "!pip install numpy-stl"
      ],
      "execution_count": null,
      "outputs": []
    },
    {
      "cell_type": "code",
      "metadata": {
        "id": "NmEZTcD_4szW"
      },
      "source": [
        "from stl import mesh\n",
        "from mpl_toolkits import mplot3d\n",
        "from matplotlib import pyplot\n",
        "import numpy as np"
      ],
      "execution_count": null,
      "outputs": []
    },
    {
      "cell_type": "code",
      "metadata": {
        "id": "N0gfSjaQ5yuR"
      },
      "source": [
        "print(mesh_cow.points.shape) #(5804, 9) Each triangular face of the cow in column view"
      ],
      "execution_count": null,
      "outputs": []
    },
    {
      "cell_type": "code",
      "metadata": {
        "id": "QpYAQVYN51Sc"
      },
      "source": [
        ""
      ],
      "execution_count": null,
      "outputs": []
    }
  ]
}